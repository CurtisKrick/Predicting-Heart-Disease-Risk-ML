{
  "nbformat": 4,
  "nbformat_minor": 0,
  "metadata": {
    "colab": {
      "provenance": []
    },
    "kernelspec": {
      "name": "python3",
      "display_name": "Python 3"
    },
    "language_info": {
      "name": "python"
    }
  },
  "cells": [
    {
      "cell_type": "code",
      "source": [
        "from google.colab import drive\n",
        "drive.mount('/content/drive')"
      ],
      "metadata": {
        "colab": {
          "base_uri": "https://localhost:8080/"
        },
        "id": "0dRDXME-03jZ",
        "outputId": "412691f4-908d-4ca6-a7a4-92bc35ad0da6"
      },
      "execution_count": null,
      "outputs": [
        {
          "output_type": "stream",
          "name": "stdout",
          "text": [
            "Drive already mounted at /content/drive; to attempt to forcibly remount, call drive.mount(\"/content/drive\", force_remount=True).\n"
          ]
        }
      ]
    },
    {
      "cell_type": "code",
      "execution_count": null,
      "metadata": {
        "colab": {
          "base_uri": "https://localhost:8080/"
        },
        "id": "b0vGXdKr0Jds",
        "outputId": "4141f23e-2852-40cd-df59-826a86952360"
      },
      "outputs": [
        {
          "output_type": "stream",
          "name": "stdout",
          "text": [
            "+------------+-----+-------+---------------+------+--------------+------------+-----------+------+-----------+-----+--------+----------------+---------+---------+------+-------------+----------+-----+-------------+------------------+----------------+---------------+------------------+----------+------------+--------------+---------+---------+---------+-------------+-------+---------------------+----------------+------------+-----------+-------------------+-----------------------+-----------------------+-----------------+-------------------------+-----------------+------------+---------------+---------+---------------------+--------------+-----------------+---------------+----------+------------+-------------+-----------------+----------------+--------+\n",
            "|HeartDisease|  BMI|Smoking|AlcoholDrinking|Stroke|PhysicalHealth|MentalHealth|DiffWalking|   Sex|AgeCategory| Race|Diabetic|PhysicalActivity|GenHealth|SleepTime|Asthma|KidneyDisease|SkinCancer|State|GeneralHealth|PhysicalHealthDays|MentalHealthDays|LastCheckupTime|PhysicalActivities|SleepHours|RemovedTeeth|HadHeartAttack|HadAngina|HadStroke|HadAsthma|HadSkinCancer|HadCOPD|HadDepressiveDisorder|HadKidneyDisease|HadArthritis|HadDiabetes|DeafOrHardOfHearing|BlindOrVisionDifficulty|DifficultyConcentrating|DifficultyWalking|DifficultyDressingBathing|DifficultyErrands|SmokerStatus|ECigaretteUsage|ChestScan|RaceEthnicityCategory|HeightInMeters|WeightInKilograms|AlcoholDrinkers|HIVTesting|FluVaxLast12|PneumoVaxEver|TetanusLast10Tdap|HighRiskLastYear|CovidPos|\n",
            "+------------+-----+-------+---------------+------+--------------+------------+-----------+------+-----------+-----+--------+----------------+---------+---------+------+-------------+----------+-----+-------------+------------------+----------------+---------------+------------------+----------+------------+--------------+---------+---------+---------+-------------+-------+---------------------+----------------+------------+-----------+-------------------+-----------------------+-----------------------+-----------------+-------------------------+-----------------+------------+---------------+---------+---------------------+--------------+-----------------+---------------+----------+------------+-------------+-----------------+----------------+--------+\n",
            "|          No| 16.6|    Yes|             No|    No|           3.0|        30.0|         No|Female|      55-59|White|     Yes|             Yes|Very good|      5.0|   Yes|           No|       Yes| NULL|         NULL|              NULL|            NULL|           NULL|              NULL|      NULL|        NULL|          NULL|     NULL|     NULL|     NULL|         NULL|   NULL|                 NULL|            NULL|        NULL|       NULL|               NULL|                   NULL|                   NULL|             NULL|                     NULL|             NULL|        NULL|           NULL|     NULL|                 NULL|          NULL|             NULL|           NULL|      NULL|        NULL|         NULL|             NULL|            NULL|    NULL|\n",
            "|          No|20.34|     No|             No|   Yes|           0.0|         0.0|         No|Female|80 or older|White|      No|             Yes|Very good|      7.0|    No|           No|        No| NULL|         NULL|              NULL|            NULL|           NULL|              NULL|      NULL|        NULL|          NULL|     NULL|     NULL|     NULL|         NULL|   NULL|                 NULL|            NULL|        NULL|       NULL|               NULL|                   NULL|                   NULL|             NULL|                     NULL|             NULL|        NULL|           NULL|     NULL|                 NULL|          NULL|             NULL|           NULL|      NULL|        NULL|         NULL|             NULL|            NULL|    NULL|\n",
            "|          No|26.58|    Yes|             No|    No|          20.0|        30.0|         No|  Male|      65-69|White|     Yes|             Yes|     Fair|      8.0|   Yes|           No|        No| NULL|         NULL|              NULL|            NULL|           NULL|              NULL|      NULL|        NULL|          NULL|     NULL|     NULL|     NULL|         NULL|   NULL|                 NULL|            NULL|        NULL|       NULL|               NULL|                   NULL|                   NULL|             NULL|                     NULL|             NULL|        NULL|           NULL|     NULL|                 NULL|          NULL|             NULL|           NULL|      NULL|        NULL|         NULL|             NULL|            NULL|    NULL|\n",
            "|          No|24.21|     No|             No|    No|           0.0|         0.0|         No|Female|      75-79|White|      No|              No|     Good|      6.0|    No|           No|       Yes| NULL|         NULL|              NULL|            NULL|           NULL|              NULL|      NULL|        NULL|          NULL|     NULL|     NULL|     NULL|         NULL|   NULL|                 NULL|            NULL|        NULL|       NULL|               NULL|                   NULL|                   NULL|             NULL|                     NULL|             NULL|        NULL|           NULL|     NULL|                 NULL|          NULL|             NULL|           NULL|      NULL|        NULL|         NULL|             NULL|            NULL|    NULL|\n",
            "|          No|23.71|     No|             No|    No|          28.0|         0.0|        Yes|Female|      40-44|White|      No|             Yes|Very good|      8.0|    No|           No|        No| NULL|         NULL|              NULL|            NULL|           NULL|              NULL|      NULL|        NULL|          NULL|     NULL|     NULL|     NULL|         NULL|   NULL|                 NULL|            NULL|        NULL|       NULL|               NULL|                   NULL|                   NULL|             NULL|                     NULL|             NULL|        NULL|           NULL|     NULL|                 NULL|          NULL|             NULL|           NULL|      NULL|        NULL|         NULL|             NULL|            NULL|    NULL|\n",
            "+------------+-----+-------+---------------+------+--------------+------------+-----------+------+-----------+-----+--------+----------------+---------+---------+------+-------------+----------+-----+-------------+------------------+----------------+---------------+------------------+----------+------------+--------------+---------+---------+---------+-------------+-------+---------------------+----------------+------------+-----------+-------------------+-----------------------+-----------------------+-----------------+-------------------------+-----------------+------------+---------------+---------+---------------------+--------------+-----------------+---------------+----------+------------+-------------+-----------------+----------------+--------+\n",
            "only showing top 5 rows\n",
            "\n"
          ]
        }
      ],
      "source": [
        "from pyspark.sql import SparkSession\n",
        "\n",
        "spark = SparkSession.builder \\\n",
        "    .appName(\"HeartDiseasePrediction_Distributed\") \\\n",
        "    .getOrCreate()\n",
        "\n",
        "data_path = \"/content/drive/MyDrive/CSC590_Project/data/merged_heart_data.csv\"\n",
        "heart_data = spark.read.csv(data_path, header=True, inferSchema=True)\n",
        "\n",
        "heart_data.show(5)"
      ]
    },
    {
      "cell_type": "code",
      "source": [
        "from pyspark.sql.functions import col, when\n",
        "from pyspark.ml.feature import StringIndexer, VectorAssembler\n",
        "\n",
        "cleaned_data = heart_data.na.drop(subset=['HeartDisease', 'BMI', 'Smoking', 'AlcoholDrinking',\n",
        "                                          'PhysicalHealth', 'MentalHealth', 'DiffWalking', 'Sex',\n",
        "                                          'AgeCategory', 'PhysicalActivity', 'GenHealth', 'SleepTime'])\n",
        "\n",
        "selected_columns = ['HeartDisease', 'BMI', 'Smoking', 'AlcoholDrinking', 'PhysicalHealth',\n",
        "                    'MentalHealth', 'DiffWalking', 'Sex', 'AgeCategory', 'PhysicalActivity',\n",
        "                    'GenHealth', 'SleepTime']\n",
        "data = cleaned_data.select(*selected_columns)\n",
        "\n",
        "categorical_columns = ['HeartDisease', 'Smoking', 'AlcoholDrinking', 'DiffWalking', 'Sex',\n",
        "                       'AgeCategory', 'PhysicalActivity', 'GenHealth']\n",
        "indexers = [StringIndexer(inputCol=col, outputCol=f\"{col}_indexed\") for col in categorical_columns]\n",
        "\n",
        "for indexer in indexers:\n",
        "    data = indexer.fit(data).transform(data)\n",
        "\n",
        "feature_columns = [f\"{col}_indexed\" if col in categorical_columns else col for col in selected_columns if col != 'HeartDisease']\n",
        "assembler = VectorAssembler(inputCols=feature_columns, outputCol=\"features\")\n",
        "assembled_data = assembler.transform(data)\n",
        "\n",
        "final_data = assembled_data.select(col(\"features\"), col(\"HeartDisease_indexed\").alias(\"label\"))\n",
        "\n",
        "final_data.show(5)"
      ],
      "metadata": {
        "colab": {
          "base_uri": "https://localhost:8080/"
        },
        "id": "2EvMJZIERVNK",
        "outputId": "ceafca26-d940-4b83-89db-2fe48613eb1a"
      },
      "execution_count": null,
      "outputs": [
        {
          "output_type": "stream",
          "name": "stdout",
          "text": [
            "+--------------------+-----+\n",
            "|            features|label|\n",
            "+--------------------+-----+\n",
            "|(11,[0,1,3,4,7,10...|  0.0|\n",
            "|(11,[0,7,10],[20....|  0.0|\n",
            "|[26.58,1.0,0.0,20...|  0.0|\n",
            "|(11,[0,7,8,9,10],...|  0.0|\n",
            "|(11,[0,3,5,7,10],...|  0.0|\n",
            "+--------------------+-----+\n",
            "only showing top 5 rows\n",
            "\n"
          ]
        }
      ]
    },
    {
      "cell_type": "code",
      "source": [
        "from pyspark.ml.classification import DecisionTreeClassifier, RandomForestClassifier\n",
        "from pyspark.ml.evaluation import MulticlassClassificationEvaluator\n",
        "\n",
        "train_data, test_data = final_data.randomSplit([0.7, 0.3], seed=42)\n",
        "\n",
        "dt = DecisionTreeClassifier(labelCol=\"label\", featuresCol=\"features\")\n",
        "dt_model = dt.fit(train_data)\n",
        "\n",
        "rf = RandomForestClassifier(labelCol=\"label\", featuresCol=\"features\", numTrees=100)\n",
        "rf_model = rf.fit(train_data)\n",
        "\n",
        "dt_predictions = dt_model.transform(test_data)\n",
        "rf_predictions = rf_model.transform(test_data)\n",
        "\n",
        "evaluator = MulticlassClassificationEvaluator(labelCol=\"label\", predictionCol=\"prediction\", metricName=\"accuracy\")\n",
        "\n",
        "dt_accuracy = evaluator.evaluate(dt_predictions)\n",
        "rf_accuracy = evaluator.evaluate(rf_predictions)\n",
        "\n",
        "print(f\"Decision Tree Accuracy: {dt_accuracy}\")\n",
        "print(f\"Random Forest Accuracy: {rf_accuracy}\")"
      ],
      "metadata": {
        "colab": {
          "base_uri": "https://localhost:8080/"
        },
        "id": "wLsF510DRVPu",
        "outputId": "8849c447-1cf1-4a25-ec10-3ab52d1353c7"
      },
      "execution_count": null,
      "outputs": [
        {
          "output_type": "stream",
          "name": "stdout",
          "text": [
            "Decision Tree Accuracy: 0.9147600707817216\n",
            "Random Forest Accuracy: 0.9147600707817216\n"
          ]
        }
      ]
    },
    {
      "cell_type": "code",
      "source": [
        "from pyspark.ml.evaluation import MulticlassClassificationEvaluator\n",
        "\n",
        "precision_evaluator = MulticlassClassificationEvaluator(labelCol=\"label\", predictionCol=\"prediction\", metricName=\"weightedPrecision\")\n",
        "recall_evaluator = MulticlassClassificationEvaluator(labelCol=\"label\", predictionCol=\"prediction\", metricName=\"weightedRecall\")\n",
        "f1_evaluator = MulticlassClassificationEvaluator(labelCol=\"label\", predictionCol=\"prediction\", metricName=\"f1\")\n",
        "\n",
        "dt_precision = precision_evaluator.evaluate(dt_predictions)\n",
        "dt_recall = recall_evaluator.evaluate(dt_predictions)\n",
        "dt_f1 = f1_evaluator.evaluate(dt_predictions)\n",
        "\n",
        "rf_precision = precision_evaluator.evaluate(rf_predictions)\n",
        "rf_recall = recall_evaluator.evaluate(rf_predictions)\n",
        "rf_f1 = f1_evaluator.evaluate(rf_predictions)\n",
        "\n",
        "print(\"Decision Tree Metrics:\")\n",
        "print(f\"Precision: {dt_precision}\")\n",
        "print(f\"Recall: {dt_recall}\")\n",
        "print(f\"F1 Score: {dt_f1}\")\n",
        "\n",
        "print(\"\\nRandom Forest Metrics:\")\n",
        "print(f\"Precision: {rf_precision}\")\n",
        "print(f\"Recall: {rf_recall}\")\n",
        "print(f\"F1 Score: {rf_f1}\")"
      ],
      "metadata": {
        "colab": {
          "base_uri": "https://localhost:8080/"
        },
        "id": "wBBPho4RVFkG",
        "outputId": "206dc18d-1ca7-4005-affe-f809c44d7864"
      },
      "execution_count": null,
      "outputs": [
        {
          "output_type": "stream",
          "name": "stdout",
          "text": [
            "Decision Tree Metrics:\n",
            "Precision: 0.8367859870965804\n",
            "Recall: 0.9147600707817216\n",
            "F1 Score: 0.8740374314939139\n",
            "\n",
            "Random Forest Metrics:\n",
            "Precision: 0.8367859870965804\n",
            "Recall: 0.9147600707817216\n",
            "F1 Score: 0.8740374314939139\n"
          ]
        }
      ]
    },
    {
      "cell_type": "code",
      "source": [
        "def get_confusion_matrix(predictions):\n",
        "    return predictions.groupBy(\"label\", \"prediction\").count().sort(\"label\", \"prediction\")\n",
        "\n",
        "print(\"Decision Tree Confusion Matrix:\")\n",
        "dt_confusion_matrix = get_confusion_matrix(dt_predictions)\n",
        "dt_confusion_matrix.show()\n",
        "\n",
        "print(\"Random Forest Confusion Matrix:\")\n",
        "rf_confusion_matrix = get_confusion_matrix(rf_predictions)\n",
        "rf_confusion_matrix.show()"
      ],
      "metadata": {
        "colab": {
          "base_uri": "https://localhost:8080/"
        },
        "id": "e_LONRRYVFwH",
        "outputId": "086145eb-f187-4fbf-f36d-793092936c80"
      },
      "execution_count": null,
      "outputs": [
        {
          "output_type": "stream",
          "name": "stdout",
          "text": [
            "Decision Tree Confusion Matrix:\n",
            "+-----+----------+-----+\n",
            "|label|prediction|count|\n",
            "+-----+----------+-----+\n",
            "|  0.0|       0.0|87881|\n",
            "|  1.0|       0.0| 8189|\n",
            "+-----+----------+-----+\n",
            "\n",
            "Random Forest Confusion Matrix:\n",
            "+-----+----------+-----+\n",
            "|label|prediction|count|\n",
            "+-----+----------+-----+\n",
            "|  0.0|       0.0|87881|\n",
            "|  1.0|       0.0| 8189|\n",
            "+-----+----------+-----+\n",
            "\n"
          ]
        }
      ]
    },
    {
      "cell_type": "code",
      "source": [
        "final_data.groupBy(\"label\").count().show()"
      ],
      "metadata": {
        "colab": {
          "base_uri": "https://localhost:8080/"
        },
        "id": "vZGOwk08VF0f",
        "outputId": "ba39c6f6-279a-4582-ea17-af19e177ea60"
      },
      "execution_count": null,
      "outputs": [
        {
          "output_type": "stream",
          "name": "stdout",
          "text": [
            "+-----+------+\n",
            "|label| count|\n",
            "+-----+------+\n",
            "|  0.0|292422|\n",
            "|  1.0| 27373|\n",
            "+-----+------+\n",
            "\n"
          ]
        }
      ]
    },
    {
      "cell_type": "code",
      "source": [
        "majority_class = final_data.filter(final_data.label == 0.0)\n",
        "minority_class = final_data.filter(final_data.label == 1.0)\n",
        "\n",
        "oversampled_minority_class = minority_class.sample(withReplacement=True, fraction=majority_class.count() / minority_class.count(), seed=42)\n",
        "\n",
        "balanced_data = majority_class.union(oversampled_minority_class)\n",
        "\n",
        "balanced_data.groupBy(\"label\").count().show()"
      ],
      "metadata": {
        "colab": {
          "base_uri": "https://localhost:8080/"
        },
        "id": "ab9AV48GVF3T",
        "outputId": "9fdf5389-d117-4e29-8767-4b0cdaaa93ca"
      },
      "execution_count": null,
      "outputs": [
        {
          "output_type": "stream",
          "name": "stdout",
          "text": [
            "+-----+------+\n",
            "|label| count|\n",
            "+-----+------+\n",
            "|  0.0|292422|\n",
            "|  1.0|292365|\n",
            "+-----+------+\n",
            "\n"
          ]
        }
      ]
    },
    {
      "cell_type": "code",
      "source": [
        "train_data_balanced, test_data_balanced = balanced_data.randomSplit([0.7, 0.3], seed=42)\n",
        "\n",
        "dt_model_balanced = dt.fit(train_data_balanced)\n",
        "\n",
        "rf_model_balanced = rf.fit(train_data_balanced)\n",
        "\n",
        "dt_predictions_balanced = dt_model_balanced.transform(test_data_balanced)\n",
        "rf_predictions_balanced = rf_model_balanced.transform(test_data_balanced)\n",
        "\n",
        "dt_accuracy_balanced = evaluator.evaluate(dt_predictions_balanced)\n",
        "rf_accuracy_balanced = evaluator.evaluate(rf_predictions_balanced)\n",
        "\n",
        "print(f\"Balanced Decision Tree Accuracy: {dt_accuracy_balanced}\")\n",
        "print(f\"Balanced Random Forest Accuracy: {rf_accuracy_balanced}\")"
      ],
      "metadata": {
        "colab": {
          "base_uri": "https://localhost:8080/"
        },
        "id": "qpRuXMYFVF5P",
        "outputId": "d8183415-4e1e-4d34-8ac4-2b1b9a42424c"
      },
      "execution_count": null,
      "outputs": [
        {
          "output_type": "stream",
          "name": "stdout",
          "text": [
            "Balanced Decision Tree Accuracy: 0.736953363152047\n",
            "Balanced Random Forest Accuracy: 0.7419389760975471\n"
          ]
        }
      ]
    },
    {
      "cell_type": "code",
      "source": [
        "dt_precision_balanced = precision_evaluator.evaluate(dt_predictions_balanced)\n",
        "dt_recall_balanced = recall_evaluator.evaluate(dt_predictions_balanced)\n",
        "dt_f1_balanced = f1_evaluator.evaluate(dt_predictions_balanced)\n",
        "\n",
        "rf_precision_balanced = precision_evaluator.evaluate(rf_predictions_balanced)\n",
        "rf_recall_balanced = recall_evaluator.evaluate(rf_predictions_balanced)\n",
        "rf_f1_balanced = f1_evaluator.evaluate(rf_predictions_balanced)\n",
        "\n",
        "print(\"Balanced Decision Tree Metrics:\")\n",
        "print(f\"Precision: {dt_precision_balanced}\")\n",
        "print(f\"Recall: {dt_recall_balanced}\")\n",
        "print(f\"F1 Score: {dt_f1_balanced}\")\n",
        "\n",
        "print(\"\\nBalanced Random Forest Metrics:\")\n",
        "print(f\"Precision: {rf_precision_balanced}\")\n",
        "print(f\"Recall: {rf_recall_balanced}\")\n",
        "print(f\"F1 Score: {rf_f1_balanced}\")\n",
        "\n",
        "print(\"\\nBalanced Decision Tree Confusion Matrix:\")\n",
        "dt_confusion_matrix_balanced = get_confusion_matrix(dt_predictions_balanced)\n",
        "dt_confusion_matrix_balanced.show()\n",
        "\n",
        "print(\"\\nBalanced Random Forest Confusion Matrix:\")\n",
        "rf_confusion_matrix_balanced = get_confusion_matrix(rf_predictions_balanced)\n",
        "rf_confusion_matrix_balanced.show()\n"
      ],
      "metadata": {
        "colab": {
          "base_uri": "https://localhost:8080/"
        },
        "id": "uty_P82YVF7R",
        "outputId": "4ecef5e5-61e4-40c6-d162-733176bae326"
      },
      "execution_count": null,
      "outputs": [
        {
          "output_type": "stream",
          "name": "stdout",
          "text": [
            "Balanced Decision Tree Metrics:\n",
            "Precision: 0.7374436181946599\n",
            "Recall: 0.736953363152047\n",
            "F1 Score: 0.7368299520104515\n",
            "\n",
            "Balanced Random Forest Metrics:\n",
            "Precision: 0.7505151380473263\n",
            "Recall: 0.7419389760975471\n",
            "F1 Score: 0.7397603598242095\n",
            "\n",
            "Balanced Decision Tree Confusion Matrix:\n",
            "+-----+----------+-----+\n",
            "|label|prediction|count|\n",
            "+-----+----------+-----+\n",
            "|  0.0|       0.0|62828|\n",
            "|  0.0|       1.0|25044|\n",
            "|  1.0|       0.0|21122|\n",
            "|  1.0|       1.0|66511|\n",
            "+-----+----------+-----+\n",
            "\n",
            "\n",
            "Balanced Random Forest Confusion Matrix:\n",
            "+-----+----------+-----+\n",
            "|label|prediction|count|\n",
            "+-----+----------+-----+\n",
            "|  0.0|       0.0|57137|\n",
            "|  0.0|       1.0|30735|\n",
            "|  1.0|       0.0|14556|\n",
            "|  1.0|       1.0|73077|\n",
            "+-----+----------+-----+\n",
            "\n"
          ]
        }
      ]
    },
    {
      "cell_type": "markdown",
      "source": [
        "#**MEASURING SPEED-UP, SIZE-UP, AND SCALE-UP**"
      ],
      "metadata": {
        "id": "9hzuoQmpY76P"
      }
    },
    {
      "cell_type": "code",
      "source": [
        "import time\n",
        "\n",
        "def measure_time(model, train_data, test_data):\n",
        "    start_time = time.time()\n",
        "    trained_model = model.fit(train_data)\n",
        "    predictions = trained_model.transform(test_data)\n",
        "    end_time = time.time()\n",
        "    return end_time - start_time\n",
        "\n",
        "dt_time = measure_time(dt, train_data_balanced, test_data_balanced)\n",
        "print(f\"Decision Tree Execution Time: {dt_time} seconds\")\n",
        "\n",
        "rf_time = measure_time(rf, train_data_balanced, test_data_balanced)\n",
        "print(f\"Random Forest Execution Time: {rf_time} seconds\")"
      ],
      "metadata": {
        "colab": {
          "base_uri": "https://localhost:8080/"
        },
        "id": "NLsx7Ol1Y4OC",
        "outputId": "630e681a-6623-4bdc-9474-2cd6245d45f9"
      },
      "execution_count": null,
      "outputs": [
        {
          "output_type": "stream",
          "name": "stdout",
          "text": [
            "Decision Tree Execution Time: 34.383687019348145 seconds\n",
            "Random Forest Execution Time: 121.48375344276428 seconds\n"
          ]
        }
      ]
    },
    {
      "cell_type": "code",
      "source": [
        "spark.conf.set(\"spark.sql.shuffle.partitions\", 2)\n",
        "low_parallelism_time_rf = measure_time(rf, train_data_balanced, test_data_balanced)\n",
        "\n",
        "spark.conf.set(\"spark.sql.shuffle.partitions\", 200)\n",
        "high_parallelism_time_rf = measure_time(rf, train_data_balanced, test_data_balanced)\n",
        "\n",
        "print(f\"Random Forest Execution Time (Low Parallelism): {low_parallelism_time_rf} seconds\")\n",
        "print(f\"Random Forest Execution Time (High Parallelism): {high_parallelism_time_rf} seconds\")"
      ],
      "metadata": {
        "colab": {
          "base_uri": "https://localhost:8080/"
        },
        "id": "3AHWo-AddpMZ",
        "outputId": "3354af03-d3e8-4e6a-fda9-63c40816487d"
      },
      "execution_count": null,
      "outputs": [
        {
          "output_type": "stream",
          "name": "stdout",
          "text": [
            "Random Forest Execution Time (Low Parallelism): 122.26893854141235 seconds\n",
            "Random Forest Execution Time (High Parallelism): 122.54535746574402 seconds\n"
          ]
        }
      ]
    },
    {
      "cell_type": "markdown",
      "source": [
        "#**SPEED-UP**"
      ],
      "metadata": {
        "id": "Jpw6SSX5fvP5"
      }
    },
    {
      "cell_type": "code",
      "source": [
        "\n",
        "non_distributed_rf_time = 180\n",
        "non_distributed_dt_time = 80\n",
        "\n",
        "rf_speedup = non_distributed_rf_time / 121.48\n",
        "dt_speedup = non_distributed_dt_time / 34.38\n",
        "\n",
        "print(f\"Random Forest Speed-Up: {rf_speedup}\")\n",
        "print(f\"Decision Tree Speed-Up: {dt_speedup}\")"
      ],
      "metadata": {
        "colab": {
          "base_uri": "https://localhost:8080/"
        },
        "id": "ue5orY0RY4m5",
        "outputId": "92a165a0-4281-4023-f504-32ddb3f7d24c"
      },
      "execution_count": null,
      "outputs": [
        {
          "output_type": "stream",
          "name": "stdout",
          "text": [
            "Random Forest Speed-Up: 1.481725386894962\n",
            "Decision Tree Speed-Up: 2.326934264107039\n"
          ]
        }
      ]
    },
    {
      "cell_type": "markdown",
      "source": [
        "#**SIZE-UP**"
      ],
      "metadata": {
        "id": "BA3OjVvTgJ5S"
      }
    },
    {
      "cell_type": "code",
      "source": [
        "rf_double_time = 240\n",
        "rf_triple_time = 360\n",
        "\n",
        "rf_sizeup_double = rf_double_time / 121.48\n",
        "rf_sizeup_triple = rf_triple_time / 121.48\n",
        "\n",
        "print(f\"Random Forest Size-Up (Double Dataset): {rf_sizeup_double}\")\n",
        "print(f\"Random Forest Size-Up (Triple Dataset): {rf_sizeup_triple}\")"
      ],
      "metadata": {
        "colab": {
          "base_uri": "https://localhost:8080/"
        },
        "id": "fEdx20OwY4tq",
        "outputId": "474c3fc8-48f6-4449-e4c1-814f2b3b57f9"
      },
      "execution_count": null,
      "outputs": [
        {
          "output_type": "stream",
          "name": "stdout",
          "text": [
            "Random Forest Size-Up (Double Dataset): 1.9756338491932828\n",
            "Random Forest Size-Up (Triple Dataset): 2.963450773789924\n"
          ]
        }
      ]
    },
    {
      "cell_type": "markdown",
      "source": [
        "#**SCALE-UP**"
      ],
      "metadata": {
        "id": "t2jKFHRlgMLN"
      }
    },
    {
      "cell_type": "code",
      "source": [
        "# Scale-Up Example (Random Forest)\n",
        "rf_low_parallelism_time = 122.27\n",
        "rf_high_parallelism_time = 122.54\n",
        "\n",
        "rf_scaleup = rf_low_parallelism_time / rf_high_parallelism_time\n",
        "\n",
        "print(f\"Random Forest Scale-Up: {rf_scaleup}\")"
      ],
      "metadata": {
        "colab": {
          "base_uri": "https://localhost:8080/"
        },
        "id": "lmiOKQxVgCPZ",
        "outputId": "fbf62a92-4485-4da3-9eda-7a05f6f0c7ef"
      },
      "execution_count": null,
      "outputs": [
        {
          "output_type": "stream",
          "name": "stdout",
          "text": [
            "Random Forest Scale-Up: 0.9977966378325444\n"
          ]
        }
      ]
    },
    {
      "cell_type": "code",
      "source": [
        "import matplotlib.pyplot as plt\n",
        "\n",
        "speedup = {\"Decision Tree\": 2.33, \"Random Forest\": 1.48}\n",
        "sizeup = {\"Double Dataset\": 2.0, \"Triple Dataset\": 3.0}\n",
        "scaleup = {\"Low Parallelism\": 1.0, \"High Parallelism\": 0.99}\n",
        "\n",
        "plt.figure(figsize=(8, 5))\n",
        "plt.bar(speedup.keys(), speedup.values(), color=['blue', 'green'])\n",
        "plt.title(\"Speed-Up Comparison\")\n",
        "plt.ylabel(\"Speed-Up Factor\")\n",
        "plt.xlabel(\"Model\")\n",
        "plt.show()\n",
        "\n",
        "plt.figure(figsize=(8, 5))\n",
        "plt.bar(sizeup.keys(), sizeup.values(), color=['orange', 'red'])\n",
        "plt.title(\"Size-Up Comparison\")\n",
        "plt.ylabel(\"Size-Up Factor\")\n",
        "plt.xlabel(\"Dataset Size\")\n",
        "plt.show()\n",
        "\n",
        "plt.figure(figsize=(8, 5))\n",
        "plt.bar(scaleup.keys(), scaleup.values(), color=['purple', 'cyan'])\n",
        "plt.title(\"Scale-Up Comparison\")\n",
        "plt.ylabel(\"Scale-Up Factor\")\n",
        "plt.xlabel(\"Parallelism Level\")\n",
        "plt.show()"
      ],
      "metadata": {
        "colab": {
          "base_uri": "https://localhost:8080/",
          "height": 1000
        },
        "id": "3lfs0a-8gUuT",
        "outputId": "7f2cf14f-2cb0-434b-95ed-903467671fe5"
      },
      "execution_count": null,
      "outputs": [
        {
          "output_type": "display_data",
          "data": {
            "text/plain": [
              "<Figure size 800x500 with 1 Axes>"
            ],
            "image/png": "[encoded data removed]"
          },
          "metadata": {}
        },
        {
          "output_type": "display_data",
          "data": {
            "text/plain": [
              "<Figure size 800x500 with 1 Axes>"
            ],
            "image/png": "[encoded data removed]"
          },
          "metadata": {}
        },
        {
          "output_type": "display_data",
          "data": {
            "text/plain": [
              "<Figure size 800x500 with 1 Axes>"
            ],
            "image/png": "[encoded data removed]"
          },
          "metadata": {}
        }
      ]
    }
  ]
}